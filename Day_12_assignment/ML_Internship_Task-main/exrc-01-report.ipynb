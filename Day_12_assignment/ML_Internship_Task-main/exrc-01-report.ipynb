{
 "cells": [
  {
   "cell_type": "code",
   "execution_count": 93,
   "id": "6acb0aae",
   "metadata": {},
   "outputs": [],
   "source": [
    "import numpy as np\n",
    "import pandas as pd\n",
    "import matplotlib.pyplot as plt\n",
    "%matplotlib inline"
   ]
  },
  {
   "cell_type": "code",
   "execution_count": 61,
   "id": "3bde50a4",
   "metadata": {},
   "outputs": [],
   "source": [
    "df = pd.read_csv('weather_2020-11.csv');"
   ]
  },
  {
   "cell_type": "code",
   "execution_count": 62,
   "id": "bc23b0b7",
   "metadata": {},
   "outputs": [
    {
     "data": {
      "text/html": [
       "<div>\n",
       "<style scoped>\n",
       "    .dataframe tbody tr th:only-of-type {\n",
       "        vertical-align: middle;\n",
       "    }\n",
       "\n",
       "    .dataframe tbody tr th {\n",
       "        vertical-align: top;\n",
       "    }\n",
       "\n",
       "    .dataframe thead th {\n",
       "        text-align: right;\n",
       "    }\n",
       "</style>\n",
       "<table border=\"1\" class=\"dataframe\">\n",
       "  <thead>\n",
       "    <tr style=\"text-align: right;\">\n",
       "      <th></th>\n",
       "      <th>Time</th>\n",
       "      <th>ParameterName</th>\n",
       "      <th>ParameterValue</th>\n",
       "    </tr>\n",
       "  </thead>\n",
       "  <tbody>\n",
       "    <tr>\n",
       "      <th>0</th>\n",
       "      <td>2020-11-01T00:00:00Z</td>\n",
       "      <td>TA_PT1H_AVG</td>\n",
       "      <td>6.5</td>\n",
       "    </tr>\n",
       "    <tr>\n",
       "      <th>1</th>\n",
       "      <td>2020-11-01T00:00:00Z</td>\n",
       "      <td>TA_PT1H_MAX</td>\n",
       "      <td>6.6</td>\n",
       "    </tr>\n",
       "    <tr>\n",
       "      <th>2</th>\n",
       "      <td>2020-11-01T00:00:00Z</td>\n",
       "      <td>TA_PT1H_MIN</td>\n",
       "      <td>6.3</td>\n",
       "    </tr>\n",
       "    <tr>\n",
       "      <th>3</th>\n",
       "      <td>2020-11-01T00:00:00Z</td>\n",
       "      <td>RH_PT1H_AVG</td>\n",
       "      <td>95.0</td>\n",
       "    </tr>\n",
       "    <tr>\n",
       "      <th>4</th>\n",
       "      <td>2020-11-01T00:00:00Z</td>\n",
       "      <td>WS_PT1H_AVG</td>\n",
       "      <td>3.3</td>\n",
       "    </tr>\n",
       "    <tr>\n",
       "      <th>...</th>\n",
       "      <td>...</td>\n",
       "      <td>...</td>\n",
       "      <td>...</td>\n",
       "    </tr>\n",
       "    <tr>\n",
       "      <th>8359</th>\n",
       "      <td>2020-11-30T00:00:00Z</td>\n",
       "      <td>WD_PT1H_AVG</td>\n",
       "      <td>138.0</td>\n",
       "    </tr>\n",
       "    <tr>\n",
       "      <th>8360</th>\n",
       "      <td>2020-11-30T00:00:00Z</td>\n",
       "      <td>PRA_PT1H_ACC</td>\n",
       "      <td>NaN</td>\n",
       "    </tr>\n",
       "    <tr>\n",
       "      <th>8361</th>\n",
       "      <td>2020-11-30T00:00:00Z</td>\n",
       "      <td>PRI_PT1H_MAX</td>\n",
       "      <td>NaN</td>\n",
       "    </tr>\n",
       "    <tr>\n",
       "      <th>8362</th>\n",
       "      <td>2020-11-30T00:00:00Z</td>\n",
       "      <td>PA_PT1H_AVG</td>\n",
       "      <td>1026.9</td>\n",
       "    </tr>\n",
       "    <tr>\n",
       "      <th>8363</th>\n",
       "      <td>2020-11-30T00:00:00Z</td>\n",
       "      <td>WAWA_PT1H_RANK</td>\n",
       "      <td>NaN</td>\n",
       "    </tr>\n",
       "  </tbody>\n",
       "</table>\n",
       "<p>8364 rows × 3 columns</p>\n",
       "</div>"
      ],
      "text/plain": [
       "                      Time   ParameterName ParameterValue\n",
       "0     2020-11-01T00:00:00Z     TA_PT1H_AVG            6.5\n",
       "1     2020-11-01T00:00:00Z     TA_PT1H_MAX            6.6\n",
       "2     2020-11-01T00:00:00Z     TA_PT1H_MIN            6.3\n",
       "3     2020-11-01T00:00:00Z     RH_PT1H_AVG           95.0\n",
       "4     2020-11-01T00:00:00Z     WS_PT1H_AVG            3.3\n",
       "...                    ...             ...            ...\n",
       "8359  2020-11-30T00:00:00Z     WD_PT1H_AVG          138.0\n",
       "8360  2020-11-30T00:00:00Z    PRA_PT1H_ACC            NaN\n",
       "8361  2020-11-30T00:00:00Z    PRI_PT1H_MAX            NaN\n",
       "8362  2020-11-30T00:00:00Z     PA_PT1H_AVG         1026.9\n",
       "8363  2020-11-30T00:00:00Z  WAWA_PT1H_RANK            NaN\n",
       "\n",
       "[8364 rows x 3 columns]"
      ]
     },
     "execution_count": 62,
     "metadata": {},
     "output_type": "execute_result"
    }
   ],
   "source": [
    "df"
   ]
  },
  {
   "cell_type": "code",
   "execution_count": 63,
   "id": "773b89ec",
   "metadata": {},
   "outputs": [
    {
     "data": {
      "text/html": [
       "<div>\n",
       "<style scoped>\n",
       "    .dataframe tbody tr th:only-of-type {\n",
       "        vertical-align: middle;\n",
       "    }\n",
       "\n",
       "    .dataframe tbody tr th {\n",
       "        vertical-align: top;\n",
       "    }\n",
       "\n",
       "    .dataframe thead th {\n",
       "        text-align: right;\n",
       "    }\n",
       "</style>\n",
       "<table border=\"1\" class=\"dataframe\">\n",
       "  <thead>\n",
       "    <tr style=\"text-align: right;\">\n",
       "      <th></th>\n",
       "      <th>Time</th>\n",
       "      <th>ParameterName</th>\n",
       "      <th>ParameterValue</th>\n",
       "    </tr>\n",
       "  </thead>\n",
       "  <tbody>\n",
       "    <tr>\n",
       "      <th>0</th>\n",
       "      <td>2020-11-01T00:00:00Z</td>\n",
       "      <td>TA_PT1H_AVG</td>\n",
       "      <td>6.5</td>\n",
       "    </tr>\n",
       "    <tr>\n",
       "      <th>1</th>\n",
       "      <td>2020-11-01T00:00:00Z</td>\n",
       "      <td>TA_PT1H_MAX</td>\n",
       "      <td>6.6</td>\n",
       "    </tr>\n",
       "    <tr>\n",
       "      <th>2</th>\n",
       "      <td>2020-11-01T00:00:00Z</td>\n",
       "      <td>TA_PT1H_MIN</td>\n",
       "      <td>6.3</td>\n",
       "    </tr>\n",
       "    <tr>\n",
       "      <th>3</th>\n",
       "      <td>2020-11-01T00:00:00Z</td>\n",
       "      <td>RH_PT1H_AVG</td>\n",
       "      <td>95.0</td>\n",
       "    </tr>\n",
       "    <tr>\n",
       "      <th>4</th>\n",
       "      <td>2020-11-01T00:00:00Z</td>\n",
       "      <td>WS_PT1H_AVG</td>\n",
       "      <td>3.3</td>\n",
       "    </tr>\n",
       "  </tbody>\n",
       "</table>\n",
       "</div>"
      ],
      "text/plain": [
       "                   Time ParameterName ParameterValue\n",
       "0  2020-11-01T00:00:00Z   TA_PT1H_AVG            6.5\n",
       "1  2020-11-01T00:00:00Z   TA_PT1H_MAX            6.6\n",
       "2  2020-11-01T00:00:00Z   TA_PT1H_MIN            6.3\n",
       "3  2020-11-01T00:00:00Z   RH_PT1H_AVG           95.0\n",
       "4  2020-11-01T00:00:00Z   WS_PT1H_AVG            3.3"
      ]
     },
     "execution_count": 63,
     "metadata": {},
     "output_type": "execute_result"
    }
   ],
   "source": [
    "df.head()"
   ]
  },
  {
   "cell_type": "code",
   "execution_count": 64,
   "id": "80cb03ea",
   "metadata": {},
   "outputs": [
    {
     "data": {
      "text/plain": [
       "Time                 0\n",
       "ParameterName        0\n",
       "ParameterValue    2135\n",
       "dtype: int64"
      ]
     },
     "execution_count": 64,
     "metadata": {},
     "output_type": "execute_result"
    }
   ],
   "source": [
    "df.isnull().sum()"
   ]
  },
  {
   "cell_type": "code",
   "execution_count": 65,
   "id": "4c33cdf6",
   "metadata": {},
   "outputs": [
    {
     "data": {
      "text/html": [
       "<div>\n",
       "<style scoped>\n",
       "    .dataframe tbody tr th:only-of-type {\n",
       "        vertical-align: middle;\n",
       "    }\n",
       "\n",
       "    .dataframe tbody tr th {\n",
       "        vertical-align: top;\n",
       "    }\n",
       "\n",
       "    .dataframe thead th {\n",
       "        text-align: right;\n",
       "    }\n",
       "</style>\n",
       "<table border=\"1\" class=\"dataframe\">\n",
       "  <thead>\n",
       "    <tr style=\"text-align: right;\">\n",
       "      <th></th>\n",
       "      <th>Time</th>\n",
       "      <th>ParameterName</th>\n",
       "      <th>ParameterValue</th>\n",
       "    </tr>\n",
       "  </thead>\n",
       "  <tbody>\n",
       "    <tr>\n",
       "      <th>0</th>\n",
       "      <td>2020-11-01T00:00:00Z</td>\n",
       "      <td>TA_PT1H_AVG</td>\n",
       "      <td>6.5</td>\n",
       "    </tr>\n",
       "    <tr>\n",
       "      <th>1</th>\n",
       "      <td>2020-11-01T00:00:00Z</td>\n",
       "      <td>TA_PT1H_MAX</td>\n",
       "      <td>6.6</td>\n",
       "    </tr>\n",
       "    <tr>\n",
       "      <th>2</th>\n",
       "      <td>2020-11-01T00:00:00Z</td>\n",
       "      <td>TA_PT1H_MIN</td>\n",
       "      <td>6.3</td>\n",
       "    </tr>\n",
       "    <tr>\n",
       "      <th>3</th>\n",
       "      <td>2020-11-01T00:00:00Z</td>\n",
       "      <td>RH_PT1H_AVG</td>\n",
       "      <td>95.0</td>\n",
       "    </tr>\n",
       "    <tr>\n",
       "      <th>4</th>\n",
       "      <td>2020-11-01T00:00:00Z</td>\n",
       "      <td>WS_PT1H_AVG</td>\n",
       "      <td>3.3</td>\n",
       "    </tr>\n",
       "    <tr>\n",
       "      <th>...</th>\n",
       "      <td>...</td>\n",
       "      <td>...</td>\n",
       "      <td>...</td>\n",
       "    </tr>\n",
       "    <tr>\n",
       "      <th>8359</th>\n",
       "      <td>2020-11-30T00:00:00Z</td>\n",
       "      <td>WD_PT1H_AVG</td>\n",
       "      <td>138.0</td>\n",
       "    </tr>\n",
       "    <tr>\n",
       "      <th>8360</th>\n",
       "      <td>2020-11-30T00:00:00Z</td>\n",
       "      <td>PRA_PT1H_ACC</td>\n",
       "      <td>0</td>\n",
       "    </tr>\n",
       "    <tr>\n",
       "      <th>8361</th>\n",
       "      <td>2020-11-30T00:00:00Z</td>\n",
       "      <td>PRI_PT1H_MAX</td>\n",
       "      <td>0</td>\n",
       "    </tr>\n",
       "    <tr>\n",
       "      <th>8362</th>\n",
       "      <td>2020-11-30T00:00:00Z</td>\n",
       "      <td>PA_PT1H_AVG</td>\n",
       "      <td>1026.9</td>\n",
       "    </tr>\n",
       "    <tr>\n",
       "      <th>8363</th>\n",
       "      <td>2020-11-30T00:00:00Z</td>\n",
       "      <td>WAWA_PT1H_RANK</td>\n",
       "      <td>0</td>\n",
       "    </tr>\n",
       "  </tbody>\n",
       "</table>\n",
       "<p>8364 rows × 3 columns</p>\n",
       "</div>"
      ],
      "text/plain": [
       "                      Time   ParameterName ParameterValue\n",
       "0     2020-11-01T00:00:00Z     TA_PT1H_AVG            6.5\n",
       "1     2020-11-01T00:00:00Z     TA_PT1H_MAX            6.6\n",
       "2     2020-11-01T00:00:00Z     TA_PT1H_MIN            6.3\n",
       "3     2020-11-01T00:00:00Z     RH_PT1H_AVG           95.0\n",
       "4     2020-11-01T00:00:00Z     WS_PT1H_AVG            3.3\n",
       "...                    ...             ...            ...\n",
       "8359  2020-11-30T00:00:00Z     WD_PT1H_AVG          138.0\n",
       "8360  2020-11-30T00:00:00Z    PRA_PT1H_ACC              0\n",
       "8361  2020-11-30T00:00:00Z    PRI_PT1H_MAX              0\n",
       "8362  2020-11-30T00:00:00Z     PA_PT1H_AVG         1026.9\n",
       "8363  2020-11-30T00:00:00Z  WAWA_PT1H_RANK              0\n",
       "\n",
       "[8364 rows x 3 columns]"
      ]
     },
     "execution_count": 65,
     "metadata": {},
     "output_type": "execute_result"
    }
   ],
   "source": [
    "df.fillna(0)"
   ]
  },
  {
   "cell_type": "code",
   "execution_count": 66,
   "id": "e8c01aa5",
   "metadata": {},
   "outputs": [
    {
     "data": {
      "text/html": [
       "<div>\n",
       "<style scoped>\n",
       "    .dataframe tbody tr th:only-of-type {\n",
       "        vertical-align: middle;\n",
       "    }\n",
       "\n",
       "    .dataframe tbody tr th {\n",
       "        vertical-align: top;\n",
       "    }\n",
       "\n",
       "    .dataframe thead th {\n",
       "        text-align: right;\n",
       "    }\n",
       "</style>\n",
       "<table border=\"1\" class=\"dataframe\">\n",
       "  <thead>\n",
       "    <tr style=\"text-align: right;\">\n",
       "      <th></th>\n",
       "      <th>Time</th>\n",
       "      <th>ParameterName</th>\n",
       "      <th>ParameterValue</th>\n",
       "    </tr>\n",
       "  </thead>\n",
       "  <tbody>\n",
       "    <tr>\n",
       "      <th>0</th>\n",
       "      <td>2020-11-01T00:00:00Z</td>\n",
       "      <td>TA_PT1H_AVG</td>\n",
       "      <td>6.5</td>\n",
       "    </tr>\n",
       "    <tr>\n",
       "      <th>1</th>\n",
       "      <td>2020-11-01T00:00:00Z</td>\n",
       "      <td>TA_PT1H_MAX</td>\n",
       "      <td>6.6</td>\n",
       "    </tr>\n",
       "    <tr>\n",
       "      <th>2</th>\n",
       "      <td>2020-11-01T00:00:00Z</td>\n",
       "      <td>TA_PT1H_MIN</td>\n",
       "      <td>6.3</td>\n",
       "    </tr>\n",
       "    <tr>\n",
       "      <th>3</th>\n",
       "      <td>2020-11-01T00:00:00Z</td>\n",
       "      <td>RH_PT1H_AVG</td>\n",
       "      <td>95.0</td>\n",
       "    </tr>\n",
       "    <tr>\n",
       "      <th>4</th>\n",
       "      <td>2020-11-01T00:00:00Z</td>\n",
       "      <td>WS_PT1H_AVG</td>\n",
       "      <td>3.3</td>\n",
       "    </tr>\n",
       "    <tr>\n",
       "      <th>...</th>\n",
       "      <td>...</td>\n",
       "      <td>...</td>\n",
       "      <td>...</td>\n",
       "    </tr>\n",
       "    <tr>\n",
       "      <th>8359</th>\n",
       "      <td>2020-11-30T00:00:00Z</td>\n",
       "      <td>WD_PT1H_AVG</td>\n",
       "      <td>138.0</td>\n",
       "    </tr>\n",
       "    <tr>\n",
       "      <th>8360</th>\n",
       "      <td>2020-11-30T00:00:00Z</td>\n",
       "      <td>PRA_PT1H_ACC</td>\n",
       "      <td>NaN</td>\n",
       "    </tr>\n",
       "    <tr>\n",
       "      <th>8361</th>\n",
       "      <td>2020-11-30T00:00:00Z</td>\n",
       "      <td>PRI_PT1H_MAX</td>\n",
       "      <td>NaN</td>\n",
       "    </tr>\n",
       "    <tr>\n",
       "      <th>8362</th>\n",
       "      <td>2020-11-30T00:00:00Z</td>\n",
       "      <td>PA_PT1H_AVG</td>\n",
       "      <td>1026.9</td>\n",
       "    </tr>\n",
       "    <tr>\n",
       "      <th>8363</th>\n",
       "      <td>2020-11-30T00:00:00Z</td>\n",
       "      <td>WAWA_PT1H_RANK</td>\n",
       "      <td>NaN</td>\n",
       "    </tr>\n",
       "  </tbody>\n",
       "</table>\n",
       "<p>8364 rows × 3 columns</p>\n",
       "</div>"
      ],
      "text/plain": [
       "                      Time   ParameterName ParameterValue\n",
       "0     2020-11-01T00:00:00Z     TA_PT1H_AVG            6.5\n",
       "1     2020-11-01T00:00:00Z     TA_PT1H_MAX            6.6\n",
       "2     2020-11-01T00:00:00Z     TA_PT1H_MIN            6.3\n",
       "3     2020-11-01T00:00:00Z     RH_PT1H_AVG           95.0\n",
       "4     2020-11-01T00:00:00Z     WS_PT1H_AVG            3.3\n",
       "...                    ...             ...            ...\n",
       "8359  2020-11-30T00:00:00Z     WD_PT1H_AVG          138.0\n",
       "8360  2020-11-30T00:00:00Z    PRA_PT1H_ACC            NaN\n",
       "8361  2020-11-30T00:00:00Z    PRI_PT1H_MAX            NaN\n",
       "8362  2020-11-30T00:00:00Z     PA_PT1H_AVG         1026.9\n",
       "8363  2020-11-30T00:00:00Z  WAWA_PT1H_RANK            NaN\n",
       "\n",
       "[8364 rows x 3 columns]"
      ]
     },
     "execution_count": 66,
     "metadata": {},
     "output_type": "execute_result"
    }
   ],
   "source": [
    "df"
   ]
  },
  {
   "cell_type": "code",
   "execution_count": 67,
   "id": "01d4537e",
   "metadata": {},
   "outputs": [],
   "source": [
    "rev_df = df.fillna(0)"
   ]
  },
  {
   "cell_type": "code",
   "execution_count": 68,
   "id": "2ede5ef8",
   "metadata": {},
   "outputs": [
    {
     "data": {
      "text/html": [
       "<div>\n",
       "<style scoped>\n",
       "    .dataframe tbody tr th:only-of-type {\n",
       "        vertical-align: middle;\n",
       "    }\n",
       "\n",
       "    .dataframe tbody tr th {\n",
       "        vertical-align: top;\n",
       "    }\n",
       "\n",
       "    .dataframe thead th {\n",
       "        text-align: right;\n",
       "    }\n",
       "</style>\n",
       "<table border=\"1\" class=\"dataframe\">\n",
       "  <thead>\n",
       "    <tr style=\"text-align: right;\">\n",
       "      <th></th>\n",
       "      <th>Time</th>\n",
       "      <th>ParameterName</th>\n",
       "      <th>ParameterValue</th>\n",
       "    </tr>\n",
       "  </thead>\n",
       "  <tbody>\n",
       "    <tr>\n",
       "      <th>0</th>\n",
       "      <td>2020-11-01T00:00:00Z</td>\n",
       "      <td>TA_PT1H_AVG</td>\n",
       "      <td>6.5</td>\n",
       "    </tr>\n",
       "    <tr>\n",
       "      <th>1</th>\n",
       "      <td>2020-11-01T00:00:00Z</td>\n",
       "      <td>TA_PT1H_MAX</td>\n",
       "      <td>6.6</td>\n",
       "    </tr>\n",
       "    <tr>\n",
       "      <th>2</th>\n",
       "      <td>2020-11-01T00:00:00Z</td>\n",
       "      <td>TA_PT1H_MIN</td>\n",
       "      <td>6.3</td>\n",
       "    </tr>\n",
       "    <tr>\n",
       "      <th>3</th>\n",
       "      <td>2020-11-01T00:00:00Z</td>\n",
       "      <td>RH_PT1H_AVG</td>\n",
       "      <td>95.0</td>\n",
       "    </tr>\n",
       "    <tr>\n",
       "      <th>4</th>\n",
       "      <td>2020-11-01T00:00:00Z</td>\n",
       "      <td>WS_PT1H_AVG</td>\n",
       "      <td>3.3</td>\n",
       "    </tr>\n",
       "    <tr>\n",
       "      <th>...</th>\n",
       "      <td>...</td>\n",
       "      <td>...</td>\n",
       "      <td>...</td>\n",
       "    </tr>\n",
       "    <tr>\n",
       "      <th>8359</th>\n",
       "      <td>2020-11-30T00:00:00Z</td>\n",
       "      <td>WD_PT1H_AVG</td>\n",
       "      <td>138.0</td>\n",
       "    </tr>\n",
       "    <tr>\n",
       "      <th>8360</th>\n",
       "      <td>2020-11-30T00:00:00Z</td>\n",
       "      <td>PRA_PT1H_ACC</td>\n",
       "      <td>0</td>\n",
       "    </tr>\n",
       "    <tr>\n",
       "      <th>8361</th>\n",
       "      <td>2020-11-30T00:00:00Z</td>\n",
       "      <td>PRI_PT1H_MAX</td>\n",
       "      <td>0</td>\n",
       "    </tr>\n",
       "    <tr>\n",
       "      <th>8362</th>\n",
       "      <td>2020-11-30T00:00:00Z</td>\n",
       "      <td>PA_PT1H_AVG</td>\n",
       "      <td>1026.9</td>\n",
       "    </tr>\n",
       "    <tr>\n",
       "      <th>8363</th>\n",
       "      <td>2020-11-30T00:00:00Z</td>\n",
       "      <td>WAWA_PT1H_RANK</td>\n",
       "      <td>0</td>\n",
       "    </tr>\n",
       "  </tbody>\n",
       "</table>\n",
       "<p>8364 rows × 3 columns</p>\n",
       "</div>"
      ],
      "text/plain": [
       "                      Time   ParameterName ParameterValue\n",
       "0     2020-11-01T00:00:00Z     TA_PT1H_AVG            6.5\n",
       "1     2020-11-01T00:00:00Z     TA_PT1H_MAX            6.6\n",
       "2     2020-11-01T00:00:00Z     TA_PT1H_MIN            6.3\n",
       "3     2020-11-01T00:00:00Z     RH_PT1H_AVG           95.0\n",
       "4     2020-11-01T00:00:00Z     WS_PT1H_AVG            3.3\n",
       "...                    ...             ...            ...\n",
       "8359  2020-11-30T00:00:00Z     WD_PT1H_AVG          138.0\n",
       "8360  2020-11-30T00:00:00Z    PRA_PT1H_ACC              0\n",
       "8361  2020-11-30T00:00:00Z    PRI_PT1H_MAX              0\n",
       "8362  2020-11-30T00:00:00Z     PA_PT1H_AVG         1026.9\n",
       "8363  2020-11-30T00:00:00Z  WAWA_PT1H_RANK              0\n",
       "\n",
       "[8364 rows x 3 columns]"
      ]
     },
     "execution_count": 68,
     "metadata": {},
     "output_type": "execute_result"
    }
   ],
   "source": [
    "rev_df"
   ]
  },
  {
   "cell_type": "code",
   "execution_count": 69,
   "id": "9d2581c2",
   "metadata": {},
   "outputs": [
    {
     "name": "stdout",
     "output_type": "stream",
     "text": [
      "<class 'pandas.core.frame.DataFrame'>\n",
      "RangeIndex: 8364 entries, 0 to 8363\n",
      "Data columns (total 3 columns):\n",
      " #   Column          Non-Null Count  Dtype \n",
      "---  ------          --------------  ----- \n",
      " 0   Time            8364 non-null   object\n",
      " 1   ParameterName   8364 non-null   object\n",
      " 2   ParameterValue  8364 non-null   object\n",
      "dtypes: object(3)\n",
      "memory usage: 196.2+ KB\n"
     ]
    }
   ],
   "source": [
    "rev_df.info()"
   ]
  },
  {
   "cell_type": "code",
   "execution_count": 70,
   "id": "fc5e1f3d",
   "metadata": {},
   "outputs": [
    {
     "data": {
      "text/plain": [
       "<bound method NDFrame.describe of                       Time   ParameterName ParameterValue\n",
       "0     2020-11-01T00:00:00Z     TA_PT1H_AVG            6.5\n",
       "1     2020-11-01T00:00:00Z     TA_PT1H_MAX            6.6\n",
       "2     2020-11-01T00:00:00Z     TA_PT1H_MIN            6.3\n",
       "3     2020-11-01T00:00:00Z     RH_PT1H_AVG           95.0\n",
       "4     2020-11-01T00:00:00Z     WS_PT1H_AVG            3.3\n",
       "...                    ...             ...            ...\n",
       "8359  2020-11-30T00:00:00Z     WD_PT1H_AVG          138.0\n",
       "8360  2020-11-30T00:00:00Z    PRA_PT1H_ACC              0\n",
       "8361  2020-11-30T00:00:00Z    PRI_PT1H_MAX              0\n",
       "8362  2020-11-30T00:00:00Z     PA_PT1H_AVG         1026.9\n",
       "8363  2020-11-30T00:00:00Z  WAWA_PT1H_RANK              0\n",
       "\n",
       "[8364 rows x 3 columns]>"
      ]
     },
     "execution_count": 70,
     "metadata": {},
     "output_type": "execute_result"
    }
   ],
   "source": [
    "rev_df.describe"
   ]
  },
  {
   "cell_type": "code",
   "execution_count": 71,
   "id": "692e1b9b",
   "metadata": {},
   "outputs": [],
   "source": [
    "rev_df['ParameterValue'] = pd.to_numeric(rev_df['ParameterValue'], errors='coerce')"
   ]
  },
  {
   "cell_type": "code",
   "execution_count": 72,
   "id": "17c12b79",
   "metadata": {},
   "outputs": [
    {
     "name": "stdout",
     "output_type": "stream",
     "text": [
      "Average value of TA parameter: 2.7400286944045913\n"
     ]
    }
   ],
   "source": [
    "average_ta = rev_df[rev_df['ParameterName'] == 'TA_PT1H_AVG']['ParameterValue'].mean()\n",
    "\n",
    "print(\"Average value of TA parameter:\", average_ta)"
   ]
  },
  {
   "cell_type": "code",
   "execution_count": 73,
   "id": "aaa4db77",
   "metadata": {},
   "outputs": [
    {
     "name": "stdout",
     "output_type": "stream",
     "text": [
      "Average value of RH parameter: 81.96551724137932\n"
     ]
    }
   ],
   "source": [
    "average_rh = rev_df[rev_df['ParameterName'] == 'RH_PT1H_AVG']['ParameterValue'].mean()\n",
    "\n",
    "print(\"Average value of RH parameter:\", average_rh)"
   ]
  },
  {
   "cell_type": "code",
   "execution_count": 74,
   "id": "a74e7764",
   "metadata": {},
   "outputs": [
    {
     "name": "stdout",
     "output_type": "stream",
     "text": [
      "Average value of WS parameter: 3.9007173601147778\n"
     ]
    }
   ],
   "source": [
    "average_ws = rev_df[rev_df['ParameterName'] == 'WS_PT1H_AVG']['ParameterValue'].mean()\n",
    "\n",
    "print(\"Average value of WS parameter:\", average_ws)"
   ]
  },
  {
   "cell_type": "code",
   "execution_count": 75,
   "id": "7d882370",
   "metadata": {},
   "outputs": [
    {
     "name": "stdout",
     "output_type": "stream",
     "text": [
      "Average value of PRA parameter: 0.0\n"
     ]
    }
   ],
   "source": [
    "average_pra = rev_df[rev_df['ParameterName'] == 'PRA_PT1H_ACC']['ParameterValue'].mean()\n",
    "\n",
    "print(\"Average value of PRA parameter:\", average_pra)"
   ]
  },
  {
   "cell_type": "code",
   "execution_count": 76,
   "id": "d71175ca",
   "metadata": {},
   "outputs": [
    {
     "name": "stdout",
     "output_type": "stream",
     "text": [
      "Average value of PA parameter: 1012.6341463414634\n"
     ]
    }
   ],
   "source": [
    "average_pa = rev_df[rev_df['ParameterName'] == 'PA_PT1H_AVG']['ParameterValue'].mean()\n",
    "\n",
    "print(\"Average value of PA parameter:\", average_pa)"
   ]
  },
  {
   "cell_type": "code",
   "execution_count": 77,
   "id": "c97a2a44",
   "metadata": {},
   "outputs": [
    {
     "name": "stdout",
     "output_type": "stream",
     "text": [
      "11.1\n",
      "100.0\n",
      "12.3\n",
      "359.0\n",
      "0.0\n",
      "0.0\n",
      "1032.6\n",
      "0.0\n"
     ]
    }
   ],
   "source": [
    "#manual maximum calculations\n",
    "\n",
    "MAX_TA = rev_df[rev_df['ParameterName'] == 'TA_PT1H_MAX']['ParameterValue'].max()\n",
    "\n",
    "print(MAX_TA)\n",
    "\n",
    "MAX_RH = rev_df[rev_df['ParameterName'] == 'RH_PT1H_AVG']['ParameterValue'].max()\n",
    "\n",
    "print(MAX_RH)\n",
    "\n",
    "MAX_WS = rev_df[rev_df['ParameterName'] == 'WS_PT1H_MAX']['ParameterValue'].max()\n",
    "\n",
    "print(MAX_WS)\n",
    "\n",
    "MAX_WD = rev_df[rev_df['ParameterName'] == 'WD_PT1H_AVG']['ParameterValue'].max()\n",
    "\n",
    "print(MAX_WD)\n",
    "\n",
    "MAX_PRA = rev_df[rev_df['ParameterName'] == 'PRA_PT1H_ACC']['ParameterValue'].max()\n",
    "\n",
    "print(MAX_PRA)\n",
    "\n",
    "MAX_PRI = rev_df[rev_df['ParameterName'] == 'PRI_PT1H_MAX']['ParameterValue'].max()\n",
    "\n",
    "print(MAX_PRI)\n",
    "\n",
    "MAX_PA = rev_df[rev_df['ParameterName'] == 'PA_PT1H_AVG']['ParameterValue'].max()\n",
    "\n",
    "print(MAX_PA)\n",
    "\n",
    "MAX_WAWA = rev_df[rev_df['ParameterName'] == 'WAWA_PT1H_RANK']['ParameterValue'].max()\n",
    "\n",
    "print(MAX_WAWA)"
   ]
  },
  {
   "cell_type": "code",
   "execution_count": 78,
   "id": "76b017d0",
   "metadata": {},
   "outputs": [
    {
     "name": "stdout",
     "output_type": "stream",
     "text": [
      "-7.8\n",
      "0.0\n",
      "0.7\n",
      "4.0\n",
      "0.0\n",
      "0.0\n",
      "977.3\n",
      "0.0\n"
     ]
    }
   ],
   "source": [
    "#manual minimum calculations\n",
    "MIN_TA = rev_df[rev_df['ParameterName'] == 'TA_PT1H_MAX']['ParameterValue'].min()\n",
    "\n",
    "print(MIN_TA)\n",
    "\n",
    "MIN_RH = rev_df[rev_df['ParameterName'] == 'RH_PT1H_AVG']['ParameterValue'].min()\n",
    "\n",
    "print(MIN_RH)\n",
    "\n",
    "MIN_WS = rev_df[rev_df['ParameterName'] == 'WS_PT1H_MAX']['ParameterValue'].min()\n",
    "\n",
    "print(MIN_WS)\n",
    "\n",
    "MIN_WD = rev_df[rev_df['ParameterName'] == 'WD_PT1H_AVG']['ParameterValue'].min()\n",
    "\n",
    "print(MIN_WD)\n",
    "\n",
    "MIN_PRA = rev_df[rev_df['ParameterName'] == 'PRA_PT1H_ACC']['ParameterValue'].min()\n",
    "\n",
    "print(MIN_PRA)\n",
    "\n",
    "MIN_PRI = rev_df[rev_df['ParameterName'] == 'PRI_PT1H_MAX']['ParameterValue'].min()\n",
    "\n",
    "print(MIN_PRI)\n",
    "\n",
    "MIN_PA = rev_df[rev_df['ParameterName'] == 'PA_PT1H_AVG']['ParameterValue'].min()\n",
    "\n",
    "print(MIN_PA)\n",
    "\n",
    "MIN_WAWA = rev_df[rev_df['ParameterName'] == 'WAWA_PT1H_RANK']['ParameterValue'].min()\n",
    "\n",
    "print(MIN_WAWA)"
   ]
  },
  {
   "cell_type": "code",
   "execution_count": 91,
   "id": "0289809c",
   "metadata": {},
   "outputs": [
    {
     "name": "stdout",
     "output_type": "stream",
     "text": [
      "     ParameterName  median     max    min  highest_value\n",
      "0      TA_PT1H_AVG     2.8    10.9   -8.4              6\n",
      "1      TA_PT1H_MAX     3.0    11.1   -7.8              6\n",
      "2      TA_PT1H_MIN     2.5    10.9   -9.1              6\n",
      "3      RH_PT1H_AVG     NaN   100.0    0.0             13\n",
      "4      WS_PT1H_AVG     3.7    10.3    0.4             12\n",
      "5      WS_PT1H_MAX     4.4    12.3    0.7             14\n",
      "6      WS_PT1H_MIN     3.1     9.5    0.1             12\n",
      "7      WD_PT1H_AVG   188.0   359.0    4.0             10\n",
      "8     PRA_PT1H_ACC     0.0     0.0    0.0              0\n",
      "9     PRI_PT1H_MAX     0.0     0.0    0.0              0\n",
      "10     PA_PT1H_AVG  1013.7  1032.6  977.3             18\n",
      "11  WAWA_PT1H_RANK     NaN     0.0    0.0              0\n"
     ]
    }
   ],
   "source": [
    "rev_df = rev_df[rev_df['ParameterName'].str.contains('TA|RH|WS|WD|PRA|PRI|PA|WAWA')]\n",
    "\n",
    "rev_df['Hour'] = pd.to_datetime(rev_df['Time']).dt.hour\n",
    "\n",
    "results = []\n",
    "\n",
    "# Iterate over each parameter and calculate the median, max, min, and hour with the highest value\n",
    "for param in rev_df['ParameterName'].unique():\n",
    "    subset = rev_df[rev_df['ParameterName'] == param]\n",
    "    median_val = np.median(subset['ParameterValue'])\n",
    "    max_val = np.max(subset['ParameterValue'])\n",
    "    min_val = np.min(subset['ParameterValue'])\n",
    "    high_val = subset.loc[subset['ParameterValue'].idxmax()]['Hour']\n",
    "    results.append({'ParameterName': param, 'median': median_val, 'max': max_val, 'min': min_val, 'highest_value':high_val,})\n",
    "\n",
    "# Convert the list of dictionaries to a DataFrame\n",
    "result = pd.DataFrame(results)\n",
    "\n",
    "print(result)"
   ]
  },
  {
   "cell_type": "code",
   "execution_count": 96,
   "id": "5356a2db",
   "metadata": {},
   "outputs": [
    {
     "data": {
      "image/png": "[encoded data removed]",
      "text/plain": [
       "<Figure size 1000x600 with 1 Axes>"
      ]
     },
     "metadata": {},
     "output_type": "display_data"
    }
   ],
   "source": [
    "# Convert 'Time' column to datetime\n",
    "rev_df['Time'] = pd.to_datetime(rev_df['Time'])\n",
    "\n",
    "# Filter rows for each parameter\n",
    "filtered_data_TA = rev_df[rev_df['ParameterName'] == 'TA_PT1H_AVG']\n",
    "filtered_data_RH = rev_df[rev_df['ParameterName'] == 'RH_PT1H_AVG']\n",
    "filtered_data_WS = rev_df[rev_df['ParameterName'] == 'WS_PT1H_AVG']\n",
    "filtered_data_WD = rev_df[rev_df['ParameterName'] == 'WD_PT1H_AVG']\n",
    "filtered_data_PRA = rev_df[rev_df['ParameterName'] == 'PRA_PT1H_ACC']\n",
    "filtered_data_PRI = rev_df[rev_df['ParameterName'] == 'PRI_PT1H_MAX']\n",
    "filtered_data_PA = rev_df[rev_df['ParameterName'] == 'PA_PT1H_AVG']\n",
    "\n",
    "# Plot each parameter\n",
    "plt.figure(figsize=(10, 6))\n",
    "\n",
    "plt.plot(filtered_data_TA['Time'], filtered_data_TA['ParameterValue'], label='TA_PT1H_AVG')\n",
    "plt.plot(filtered_data_RH['Time'], filtered_data_RH['ParameterValue'], label='RH_PT1H_AVG')\n",
    "plt.plot(filtered_data_WS['Time'], filtered_data_WS['ParameterValue'], label='WS_PT1H_AVG')\n",
    "plt.plot(filtered_data_WD['Time'], filtered_data_WD['ParameterValue'], label='WD_PT1H_AVG')\n",
    "plt.plot(filtered_data_PRA['Time'], filtered_data_PRA['ParameterValue'], label='PRA_PT1H_ACC')\n",
    "plt.plot(filtered_data_PRI['Time'], filtered_data_PRI['ParameterValue'], label='PRI_PT1H_MAX')\n",
    "plt.plot(filtered_data_PA['Time'], filtered_data_PA['ParameterValue'], label='PA_PT1H_AVG')\n",
    "\n",
    "plt.xlabel('Time')\n",
    "plt.ylabel('Value')\n",
    "plt.title('Trends of Parameters Over Time')\n",
    "plt.legend()\n",
    "plt.xticks(rotation=45)\n",
    "plt.tight_layout()\n",
    "plt.show()"
   ]
  }
 ],
 "metadata": {
  "kernelspec": {
   "display_name": "Python 3 (ipykernel)",
   "language": "python",
   "name": "python3"
  },
  "language_info": {
   "codemirror_mode": {
    "name": "ipython",
    "version": 3
   },
   "file_extension": ".py",
   "mimetype": "text/x-python",
   "name": "python",
   "nbconvert_exporter": "python",
   "pygments_lexer": "ipython3",
   "version": "3.10.9"
  }
 },
 "nbformat": 4,
 "nbformat_minor": 5
}
